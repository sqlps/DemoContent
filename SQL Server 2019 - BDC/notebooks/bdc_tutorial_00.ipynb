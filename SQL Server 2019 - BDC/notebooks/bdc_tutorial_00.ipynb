{
    "metadata": {
        "kernelspec": {
            "name": "SQL",
            "display_name": "SQL",
            "language": "sql"
        },
        "language_info": {
            "name": "sql",
            "version": ""
        }
    },
    "nbformat_minor": 2,
    "nbformat": 4,
    "cells": [
        {
            "cell_type": "markdown",
            "source": [
                "<img src=\"https://github.com/Microsoft/sqlworkshops/blob/master/graphics/solutions-microsoft-logo-small.png?raw=true\" alt=\"Microsoft\">\r\n",
                "<br>\r\n",
                "\r\n",
                "# SQL Server 2019 big data cluster Tutorial - CTP 3.2\r\n",
                "## 00 - Scenario Overview and System Setup\r\n",
                "\r\n",
                "In this set of tutorials you'll work with an end-to-end scenario that uses SQL Server 2019's big data clusters to solve real-world problems. \r\n",
                ""
            ],
            "metadata": {
                "azdata_cell_guid": "adc04e15-0bd5-45ed-9898-081c074fec8e"
            }
        },
        {
            "cell_type": "markdown",
            "source": [
                "## Wide World Importers\r\n",
                "\r\n",
                "Wide World Importers (WWI) is a traditional brick and mortar business that makes specialty items for other companies to use in their products. They design, sell and ship these products worldwide.\r\n",
                "\r\n",
                "WWI corporate has now added a new partnership with a company called \"AdventureWorks\", which sells bicycles both online and in-store. The AdventureWorks company has asked WWI to produce super-hero themed baskets, seats and other bicycle equipment for a new line of bicycles. WWI corporate has asked the IT department to develop a pilot program with these goals: \r\n",
                "\r\n",
                "- Integrate the large amounts of data from the AdventureWorks company including customers, products and sales\r\n",
                "- Allow a cross-selling strategy so that current WWI customers and AdventureWorks customers see their information without having to re-enter it\r\n",
                "- Incorporate their online sales information for deeper analysis\r\n",
                "- Provide a historical data set so that the partnership can be evaluated\r\n",
                "- Ensure this is a \"framework\" approach, so that it can be re-used with other partners\r\n",
                "\r\n",
                "WWI has a typical N-Tier application that provides a series of terminals, a Business Logic layer, and a Database back-end. They use on-premises systems, and are interested in linking these to the cloud. \r\n",
                "\r\n",
                "In this series of tutorials, you will build a solution using the scale-out features of SQL Server 2019, Data Virtualization, Data Marts, and the Data Lake features. "
            ],
            "metadata": {
                "azdata_cell_guid": "4a6e5220-57e5-4fdf-81bc-924f04ba22d6"
            }
        },
        {
            "cell_type": "markdown",
            "source": [
                "## Running these Tutorials\r\n",
                "\r\n",
                "- You can read through the output of these completed tutorials if you wish - or:\r\n",
                "\r\n",
                "- You can follow along with the steps you see in these tutorials by copying the code into a SQL Query window and Spark Notebook using the Azure Data Studio tool, or you can click here to download these Jupyter Notebooks and run them in Azure Data Studio for a hands-on experience.\r\n",
                " \r\n",
                "- If you would like to run the tutorials, you'll need a SQL Server 2019 big data cluster and the client tools installed. If you want to set up your own cluster, <a href=\"https://docs.microsoft.com/en-us/sql/big-data-cluster/deploy-get-started?view=sqlallproducts-allversions\" target=\"_blank\">click this reference and follow the steps you see there for the server and tools you need</a>.\r\n",
                "\r\n",
                "- You will need to have the following: \r\n",
                "    - Your **Knox Password**\r\n",
                "    - The **Knox IP Address**\r\n",
                "    - The `sa` **Username** and **Password** to your Master Instance\r\n",
                "    - The **IP address** to the SQL Server big data cluster Master Instance \r\n",
                "    - The **name** of your big data cluster\r\n",
                "\r\n",
                "For a complete workshop on SQL Server 2019's big data clusters, <a href=\"https://github.com/Microsoft/sqlworkshops/tree/master/sqlserver2019bigdataclusters\" target=\"_blank\">check out this resource</a>."
            ],
            "metadata": {
                "azdata_cell_guid": "d49b0692-75a1-4a2c-9329-dd29be360d72"
            }
        },
        {
            "cell_type": "markdown",
            "source": [
                "## Copy Database backups to the SQL Server 2019 big data cluster Master Instance\r\n",
                "\r\n",
                "The first step for the solution is to copy the database backups from WWI from their location on the cloud and then up to your cluster. \r\n",
                "\r\n",
                "These commands use the `curl` program to pull the files down. [You can read more about curl here](https://curl.haxx.se/). \r\n",
                "\r\n",
                "The next set of commands use the `kubectl` command to copy the files from where you downloaded them to the data directory of the SQL Server 2019 bdc Master Instance. [You can read more about kubectl here](https://kubernetes.io/docs/reference/kubectl/overview/). \r\n",
                "\r\n",
                "Note that you will need to replace the section of the script marked with `<ReplaceWithClusterName>` with the name of your SQL Server 2019 bdc. (It does not need single or double quotes, just the letters of your cluster name.)\r\n",
                "\r\n",
                "Notice also that these commands assume a `c:\\temp` location, if you want to use another drive or directory, edit accordingly.\r\n",
                "\r\n",
                "Once you have edited these commands, you can open a Command Prompt on your system (Or press **CTL+`** for a Terminal)and copy and paste each block, one at a time and run them.\r\n",
                "\r\n",
                "In the next tutorial you will restore these databases on the Master Instance."
            ],
            "metadata": {
                "azdata_cell_guid": "ba3e82ee-b4c7-4c36-a4cd-94caceca3437"
            }
        },
        {
            "cell_type": "code",
            "source": [
                "cd c:\\temp\r\n",
                "\r\n",
                "kubectl cp WWI.bak master-0:/var/opt/mssql/data -c mssql-server -n sqlbigdata\r\n",
                ""
            ],
            "metadata": {
                "azdata_cell_guid": "4d02e84e-3c63-4b10-b65f-07390c401099"
            },
            "outputs": [
                {
                    "traceback": [
                        "\u001b[1;36m  File \u001b[1;32m\"<ipython-input-5-76e7f25682cd>\"\u001b[1;36m, line \u001b[1;32m1\u001b[0m\n\u001b[1;33m    cd c:\\temp\u001b[0m\n\u001b[1;37m       ^\u001b[0m\n\u001b[1;31mSyntaxError\u001b[0m\u001b[1;31m:\u001b[0m invalid syntax\n"
                    ],
                    "ename": "SyntaxError",
                    "evalue": "invalid syntax (<ipython-input-5-76e7f25682cd>, line 1)",
                    "output_type": "error"
                }
            ],
            "execution_count": 5
        },
        {
            "cell_type": "markdown",
            "source": [
                "## Copy Exported Data to Storage Pool\r\n",
                "\r\n",
                "Next, you'll download a few text files that will form the external data to be ingested into the Storage Pool HDFS store. In production environments, you have multiple options for moving data into HDFS, such as Spark Streaming or the Azure Data Factory.\r\n",
                "\r\n",
                "The first code block creates directories in the HDFS store. The second block downloads the source data from a web location. And in the final block, you'll copy the data from your local system to the SQL Server 2019 big data cluster Storage Pool.\r\n",
                "\r\n",
                "You need to replace the `ReplaceWithKnoxPassword`, `ReplaceWithKnoxwEdnpoint`, and potentially the drive letter and directory values with the appropriate information on your system. \r\n",
                "> (You can use **CTL-H** to open the Find and Replace dialog in the cell)"
            ],
            "metadata": {
                "azdata_cell_guid": "cb2e7eec-c8cc-470d-9132-8e9c05c462ae"
            }
        },
        {
            "cell_type": "code",
            "source": [
                "curl -i -L -k -u root:P@ssw0rd -X PUT \"https://40.70.208.253:30443/gateway/default/webhdfs/v1/product_review_data?op=MKDIRS\"\r\n",
                "curl -i -L -k -u root:P@ssw0rd -X PUT \"https://40.70.208.253:30443/gateway/default/webhdfs/v1/partner_customers?op=MKDIRS\"\r\n",
                "curl -i -L -k -u root:P@ssw0rd -X PUT \"https://40.70.208.253:30443/gateway/default/webhdfs/v1/partner_products?op=MKDIRS\"\r\n",
                "curl -i -L -k -u root:P@ssw0rd -X PUT \"https://40.70.208.253:30443/gateway/default/webhdfs/v1/web_logs?op=MKDIRS\"\r\n",
                ""
            ],
            "metadata": {
                "azdata_cell_guid": "77549cf7-d081-4447-8963-c93661f38de7"
            },
            "outputs": [
                {
                    "output_type": "error",
                    "evalue": "Msg 102, Level 15, State 1, Line 1\r\nIncorrect syntax near 'i'.",
                    "ename": "",
                    "traceback": []
                },
                {
                    "output_type": "error",
                    "evalue": "Msg 132, Level 15, State 1, Line 2\r\nThe label 'root' has already been declared. Label names must be unique within a query batch or stored procedure.",
                    "ename": "",
                    "traceback": []
                },
                {
                    "output_type": "error",
                    "evalue": "Msg 132, Level 15, State 1, Line 3\r\nThe label 'root' has already been declared. Label names must be unique within a query batch or stored procedure.",
                    "ename": "",
                    "traceback": []
                },
                {
                    "output_type": "error",
                    "evalue": "Msg 132, Level 15, State 1, Line 4\r\nThe label 'root' has already been declared. Label names must be unique within a query batch or stored procedure.",
                    "ename": "",
                    "traceback": []
                },
                {
                    "output_type": "display_data",
                    "data": {
                        "text/html": "Total execution time: 00:00:00.015"
                    },
                    "metadata": {}
                }
            ],
            "execution_count": 1
        },
        {
            "cell_type": "code",
            "source": [
                "curl -G \"https://cs7a9736a9346a1x44c6xb00.blob.core.windows.net/backups/product_reviews_sample.csv\" -o product_reviews.csv\r\n",
                "curl -G \"https://cs7a9736a9346a1x44c6xb00.blob.core.windows.net/backups/customers.csv\" -o customers.csv\r\n",
                "curl -G \"https://cs7a9736a9346a1x44c6xb00.blob.core.windows.net/backups/stockitemholdings.csv\" -o products.csv\r\n",
                "curl -G \"https://cs7a9736a9346a1x44c6xb00.blob.core.windows.net/backups/web_clickstreams.csv\" -o web_clickstreams.csv\r\n",
                "curl -G \"https://cs7a9736a9346a1x44c6xb00.blob.core.windows.net/backups/training-formatted.csv\" -o training-formatted.csv\r\n",
                ""
            ],
            "metadata": {
                "azdata_cell_guid": "bbe7abf9-0f67-4a37-82aa-d34db6ea8e35"
            },
            "outputs": [],
            "execution_count": 0
        },
        {
            "cell_type": "code",
            "source": [
                "curl -i -L -k -u root:P@ssw0rd -X PUT \"https://40.70.208.253:30443/gateway/default/webhdfs/v1/product_review_data/product_reviews.csv?op=create&overwrite=true\" -H \"Content-Type: application/octet-stream\" -T \"product_reviews.csv\"\r\n",
                "curl -i -L -k -u root:P@ssw0rd -X PUT \"https://40.70.208.253:30443/gateway/default/webhdfs/v1/partner_customers/customers.csv?op=create&overwrite=true\" -H \"Content-Type: application/octet-stream\" -T \"customers.csv\"\r\n",
                "curl -i -L -k -u root:P@ssw0rd -X PUT \"https://40.70.208.253:30443/gateway/default/webhdfs/v1/partner_products/products.csv?op=create&overwrite=true\" -H \"Content-Type: application/octet-stream\" -T \"products.csv\"\r\n",
                "curl -i -L -k -u root:P@ssw0rd -X PUT \"https://40.70.208.253:30443/gateway/default/webhdfs/v1/web_logs/web_clickstreams.csv?op=create&overwrite=true\" -H \"Content-Type: application/octet-stream\" -T \"web_clickstreams.csv\"\r\n",
                ""
            ],
            "metadata": {
                "azdata_cell_guid": "76636009-71c2-4e78-9abb-511d63d19452"
            },
            "outputs": [],
            "execution_count": 0
        },
        {
            "cell_type": "markdown",
            "source": [
                "## Next Step: Working with the SQL Server 2019 big data cluster Master Instance\r\n",
                "\r\n",
                "Now you're ready to open the next Python Notebook - [bdc_tutorial_01.ipynb](bdc_tutorial_01.ipynb) - to learn how to work with the SQL Server 2019 bdc Master Instance."
            ],
            "metadata": {
                "azdata_cell_guid": "62ad5e28-b1a8-4fa9-8c47-bccb227111a7"
            }
        }
    ]
}
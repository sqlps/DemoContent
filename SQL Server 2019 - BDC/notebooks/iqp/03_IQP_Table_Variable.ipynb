{
    "metadata": {
        "kernelspec": {
            "name": "SQL",
            "display_name": "SQL",
            "language": "sql"
        },
        "language_info": {
            "name": "sql",
            "version": ""
        }
    },
    "nbformat_minor": 2,
    "nbformat": 4,
    "cells": [
        {
            "cell_type": "markdown",
            "source": "# Intelligent Query Processing in SQL Server 2019 - Table Variable Deferred Compilation",
            "metadata": {}
        },
        {
            "cell_type": "markdown",
            "source": "## Step 1 - Create the stored procedure\r\nThis procedure uses a table variable populated from a user table and then joins it with a user table to provide output. T-SQL functions like COUNT and SUM are often seen in analytic queries that benefit from Intelligent Query Processing. Note: In this example the TOP 1 T-SQL syntax is used so that the procedure only produces 1 row. This is only done to make the output easier to read using this workshop and demo since this procedure will be executed multiple times. Normal execution of this procedure may not include TOP.\r\n\r\n",
            "metadata": {}
        },
        {
            "cell_type": "code",
            "source": "USE WideWorldImporters\r\nGO\r\nCREATE or ALTER PROCEDURE [Sales].[CustomerProfits]\r\nAS\r\nBEGIN\r\n-- Declare the table variable\r\nDECLARE @ilines TABLE\r\n(\t[InvoiceLineID] [int] NOT NULL primary key,\r\n\t[InvoiceID] [int] NOT NULL,\r\n\t[StockItemID] [int] NOT NULL,\r\n\t[Description] [nvarchar](100) NOT NULL,\r\n\t[PackageTypeID] [int] NOT NULL,\r\n\t[Quantity] [int] NOT NULL,\r\n\t[UnitPrice] [decimal](18, 2) NULL,\r\n\t[TaxRate] [decimal](18, 3) NOT NULL,\r\n\t[TaxAmount] [decimal](18, 2) NOT NULL,\r\n\t[LineProfit] [decimal](18, 2) NOT NULL,\r\n\t[ExtendedPrice] [decimal](18, 2) NOT NULL,\r\n\t[LastEditedBy] [int] NOT NULL,\r\n\t[LastEditedWhen] [datetime2](7) NOT NULL\r\n)\r\n\r\n-- Insert all the rows from InvoiceLines into the table variable\r\nINSERT INTO @ilines SELECT * FROM Sales.InvoiceLines\r\n\r\n-- Find my total profile by customer\r\nSELECT TOP 1 COUNT(i.CustomerID) as customer_count, SUM(il.LineProfit) as total_profit\r\nFROM Sales.Invoices i\r\nINNER JOIN @ilines il\r\nON i.InvoiceID = il.InvoiceID\r\nGROUP By i.CustomerID\r\nEND\r\nGO",
            "metadata": {},
            "outputs": [
                {
                    "output_type": "display_data",
                    "data": {
                        "text/html": "Commands completed successfully."
                    },
                    "metadata": {}
                },
                {
                    "output_type": "display_data",
                    "data": {
                        "text/html": "Total execution time: 00:00:00.0416289"
                    },
                    "metadata": {}
                },
                {
                    "output_type": "display_data",
                    "data": {
                        "text/html": "Commands completed successfully."
                    },
                    "metadata": {}
                },
                {
                    "output_type": "display_data",
                    "data": {
                        "text/html": "Total execution time: 00:00:00.1910054"
                    },
                    "metadata": {}
                }
            ],
            "execution_count": 1
        },
        {
            "cell_type": "markdown",
            "source": "## Step 2 - Run the stored procedure with database compatibility of 130\r\nou have been told this procedure executes fairly quickly with a single execution in a few seconds but over several iterations the total duration, over 20 seconds, is not acceptable to the application.\r\n\r\nThe script will ensure the database is in a compatibility mode that is less than 150 so Intelligent Query Processing will NOT be enabled. The script also turns off rowcount messages to be returned to the client to reduce network traffic for this test. Then the script executes the stored procedure. Notice the syntax of **GO 25**. This is a client tool tip that says to run the batch 25 times (avoids having to construct a loop).\r\n\r\nWhen you click Play to run the script look for these messages on the total elapsted time (your time may vary)\r\n\r\n<pre>Beginning execution loop\r\nBatch execution completed 25 times...\r\nTotal execution time: 00:00:40.3520665</pre>\r\n",
            "metadata": {}
        },
        {
            "cell_type": "code",
            "source": "USE master\r\nGO\r\nALTER DATABASE wideworldimporters SET compatibility_level = 130\r\nGO\r\nUSE WideWorldImporters\r\nGO\r\nSET NOCOUNT ON\r\nGO\r\nEXEC [Sales].[CustomerProfits]\r\nGO 25\r\nSET NOCOUNT OFF\r\nGO",
            "metadata": {},
            "outputs": [
                {
                    "output_type": "display_data",
                    "data": {
                        "text/html": "Commands completed successfully."
                    },
                    "metadata": {}
                },
                {
                    "output_type": "display_data",
                    "data": {
                        "text/html": "Total execution time: 00:00:00.0383739"
                    },
                    "metadata": {}
                },
                {
                    "output_type": "display_data",
                    "data": {
                        "text/html": "Commands completed successfully."
                    },
                    "metadata": {}
                },
                {
                    "output_type": "display_data",
                    "data": {
                        "text/html": "Total execution time: 00:00:00.0427466"
                    },
                    "metadata": {}
                },
                {
                    "output_type": "display_data",
                    "data": {
                        "text/html": "Commands completed successfully."
                    },
                    "metadata": {}
                },
                {
                    "output_type": "display_data",
                    "data": {
                        "text/html": "Total execution time: 00:00:00.0376315"
                    },
                    "metadata": {}
                },
                {
                    "output_type": "display_data",
                    "data": {
                        "text/html": "Commands completed successfully."
                    },
                    "metadata": {}
                },
                {
                    "output_type": "display_data",
                    "data": {
                        "text/html": "Total execution time: 00:00:00.0378743"
                    },
                    "metadata": {}
                },
                {
                    "output_type": "display_data",
                    "data": {
                        "text/html": "Beginning execution loop"
                    },
                    "metadata": {}
                },
                {
                    "output_type": "display_data",
                    "data": {
                        "text/html": "Batch execution completed 25 times..."
                    },
                    "metadata": {}
                },
                {
                    "output_type": "display_data",
                    "data": {
                        "text/html": "Total execution time: 00:00:55.6630486"
                    },
                    "metadata": {}
                },
                {
                    "output_type": "display_data",
                    "data": {
                        "text/html": "Commands completed successfully."
                    },
                    "metadata": {}
                },
                {
                    "output_type": "display_data",
                    "data": {
                        "text/html": "Total execution time: 00:00:00.0378308"
                    },
                    "metadata": {}
                },
                {
                    "output_type": "execute_result",
                    "metadata": {},
                    "execution_count": 2,
                    "data": {
                        "application/vnd.dataresource+json": {
                            "schema": {
                                "fields": [
                                    {
                                        "name": "customer_count"
                                    },
                                    {
                                        "name": "total_profit"
                                    }
                                ]
                            },
                            "data": [
                                {
                                    "0": "406",
                                    "1": "147225.15"
                                }
                            ]
                        },
                        "text/html": "<table><tr><th>customer_count</th><th>total_profit</th></tr><tr><td>406</td><td>147225.15</td></tr></table>"
                    }
                },
                {
                    "output_type": "execute_result",
                    "metadata": {},
                    "execution_count": 2,
                    "data": {
                        "application/vnd.dataresource+json": {
                            "schema": {
                                "fields": [
                                    {
                                        "name": "customer_count"
                                    },
                                    {
                                        "name": "total_profit"
                                    }
                                ]
                            },
                            "data": [
                                {
                                    "0": "406",
                                    "1": "147225.15"
                                }
                            ]
                        },
                        "text/html": "<table><tr><th>customer_count</th><th>total_profit</th></tr><tr><td>406</td><td>147225.15</td></tr></table>"
                    }
                },
                {
                    "output_type": "execute_result",
                    "metadata": {},
                    "execution_count": 2,
                    "data": {
                        "application/vnd.dataresource+json": {
                            "schema": {
                                "fields": [
                                    {
                                        "name": "customer_count"
                                    },
                                    {
                                        "name": "total_profit"
                                    }
                                ]
                            },
                            "data": [
                                {
                                    "0": "406",
                                    "1": "147225.15"
                                }
                            ]
                        },
                        "text/html": "<table><tr><th>customer_count</th><th>total_profit</th></tr><tr><td>406</td><td>147225.15</td></tr></table>"
                    }
                },
                {
                    "output_type": "execute_result",
                    "metadata": {},
                    "execution_count": 2,
                    "data": {
                        "application/vnd.dataresource+json": {
                            "schema": {
                                "fields": [
                                    {
                                        "name": "customer_count"
                                    },
                                    {
                                        "name": "total_profit"
                                    }
                                ]
                            },
                            "data": [
                                {
                                    "0": "406",
                                    "1": "147225.15"
                                }
                            ]
                        },
                        "text/html": "<table><tr><th>customer_count</th><th>total_profit</th></tr><tr><td>406</td><td>147225.15</td></tr></table>"
                    }
                },
                {
                    "output_type": "execute_result",
                    "metadata": {},
                    "execution_count": 2,
                    "data": {
                        "application/vnd.dataresource+json": {
                            "schema": {
                                "fields": [
                                    {
                                        "name": "customer_count"
                                    },
                                    {
                                        "name": "total_profit"
                                    }
                                ]
                            },
                            "data": [
                                {
                                    "0": "406",
                                    "1": "147225.15"
                                }
                            ]
                        },
                        "text/html": "<table><tr><th>customer_count</th><th>total_profit</th></tr><tr><td>406</td><td>147225.15</td></tr></table>"
                    }
                },
                {
                    "output_type": "execute_result",
                    "metadata": {},
                    "execution_count": 2,
                    "data": {
                        "application/vnd.dataresource+json": {
                            "schema": {
                                "fields": [
                                    {
                                        "name": "customer_count"
                                    },
                                    {
                                        "name": "total_profit"
                                    }
                                ]
                            },
                            "data": [
                                {
                                    "0": "406",
                                    "1": "147225.15"
                                }
                            ]
                        },
                        "text/html": "<table><tr><th>customer_count</th><th>total_profit</th></tr><tr><td>406</td><td>147225.15</td></tr></table>"
                    }
                },
                {
                    "output_type": "execute_result",
                    "metadata": {},
                    "execution_count": 2,
                    "data": {
                        "application/vnd.dataresource+json": {
                            "schema": {
                                "fields": [
                                    {
                                        "name": "customer_count"
                                    },
                                    {
                                        "name": "total_profit"
                                    }
                                ]
                            },
                            "data": [
                                {
                                    "0": "406",
                                    "1": "147225.15"
                                }
                            ]
                        },
                        "text/html": "<table><tr><th>customer_count</th><th>total_profit</th></tr><tr><td>406</td><td>147225.15</td></tr></table>"
                    }
                },
                {
                    "output_type": "execute_result",
                    "metadata": {},
                    "execution_count": 2,
                    "data": {
                        "application/vnd.dataresource+json": {
                            "schema": {
                                "fields": [
                                    {
                                        "name": "customer_count"
                                    },
                                    {
                                        "name": "total_profit"
                                    }
                                ]
                            },
                            "data": [
                                {
                                    "0": "406",
                                    "1": "147225.15"
                                }
                            ]
                        },
                        "text/html": "<table><tr><th>customer_count</th><th>total_profit</th></tr><tr><td>406</td><td>147225.15</td></tr></table>"
                    }
                },
                {
                    "output_type": "execute_result",
                    "metadata": {},
                    "execution_count": 2,
                    "data": {
                        "application/vnd.dataresource+json": {
                            "schema": {
                                "fields": [
                                    {
                                        "name": "customer_count"
                                    },
                                    {
                                        "name": "total_profit"
                                    }
                                ]
                            },
                            "data": [
                                {
                                    "0": "406",
                                    "1": "147225.15"
                                }
                            ]
                        },
                        "text/html": "<table><tr><th>customer_count</th><th>total_profit</th></tr><tr><td>406</td><td>147225.15</td></tr></table>"
                    }
                },
                {
                    "output_type": "execute_result",
                    "metadata": {},
                    "execution_count": 2,
                    "data": {
                        "application/vnd.dataresource+json": {
                            "schema": {
                                "fields": [
                                    {
                                        "name": "customer_count"
                                    },
                                    {
                                        "name": "total_profit"
                                    }
                                ]
                            },
                            "data": [
                                {
                                    "0": "406",
                                    "1": "147225.15"
                                }
                            ]
                        },
                        "text/html": "<table><tr><th>customer_count</th><th>total_profit</th></tr><tr><td>406</td><td>147225.15</td></tr></table>"
                    }
                },
                {
                    "output_type": "execute_result",
                    "metadata": {},
                    "execution_count": 2,
                    "data": {
                        "application/vnd.dataresource+json": {
                            "schema": {
                                "fields": [
                                    {
                                        "name": "customer_count"
                                    },
                                    {
                                        "name": "total_profit"
                                    }
                                ]
                            },
                            "data": [
                                {
                                    "0": "406",
                                    "1": "147225.15"
                                }
                            ]
                        },
                        "text/html": "<table><tr><th>customer_count</th><th>total_profit</th></tr><tr><td>406</td><td>147225.15</td></tr></table>"
                    }
                },
                {
                    "output_type": "execute_result",
                    "metadata": {},
                    "execution_count": 2,
                    "data": {
                        "application/vnd.dataresource+json": {
                            "schema": {
                                "fields": [
                                    {
                                        "name": "customer_count"
                                    },
                                    {
                                        "name": "total_profit"
                                    }
                                ]
                            },
                            "data": [
                                {
                                    "0": "406",
                                    "1": "147225.15"
                                }
                            ]
                        },
                        "text/html": "<table><tr><th>customer_count</th><th>total_profit</th></tr><tr><td>406</td><td>147225.15</td></tr></table>"
                    }
                },
                {
                    "output_type": "execute_result",
                    "metadata": {},
                    "execution_count": 2,
                    "data": {
                        "application/vnd.dataresource+json": {
                            "schema": {
                                "fields": [
                                    {
                                        "name": "customer_count"
                                    },
                                    {
                                        "name": "total_profit"
                                    }
                                ]
                            },
                            "data": [
                                {
                                    "0": "406",
                                    "1": "147225.15"
                                }
                            ]
                        },
                        "text/html": "<table><tr><th>customer_count</th><th>total_profit</th></tr><tr><td>406</td><td>147225.15</td></tr></table>"
                    }
                },
                {
                    "output_type": "execute_result",
                    "metadata": {},
                    "execution_count": 2,
                    "data": {
                        "application/vnd.dataresource+json": {
                            "schema": {
                                "fields": [
                                    {
                                        "name": "customer_count"
                                    },
                                    {
                                        "name": "total_profit"
                                    }
                                ]
                            },
                            "data": [
                                {
                                    "0": "406",
                                    "1": "147225.15"
                                }
                            ]
                        },
                        "text/html": "<table><tr><th>customer_count</th><th>total_profit</th></tr><tr><td>406</td><td>147225.15</td></tr></table>"
                    }
                },
                {
                    "output_type": "execute_result",
                    "metadata": {},
                    "execution_count": 2,
                    "data": {
                        "application/vnd.dataresource+json": {
                            "schema": {
                                "fields": [
                                    {
                                        "name": "customer_count"
                                    },
                                    {
                                        "name": "total_profit"
                                    }
                                ]
                            },
                            "data": [
                                {
                                    "0": "406",
                                    "1": "147225.15"
                                }
                            ]
                        },
                        "text/html": "<table><tr><th>customer_count</th><th>total_profit</th></tr><tr><td>406</td><td>147225.15</td></tr></table>"
                    }
                },
                {
                    "output_type": "execute_result",
                    "metadata": {},
                    "execution_count": 2,
                    "data": {
                        "application/vnd.dataresource+json": {
                            "schema": {
                                "fields": [
                                    {
                                        "name": "customer_count"
                                    },
                                    {
                                        "name": "total_profit"
                                    }
                                ]
                            },
                            "data": [
                                {
                                    "0": "406",
                                    "1": "147225.15"
                                }
                            ]
                        },
                        "text/html": "<table><tr><th>customer_count</th><th>total_profit</th></tr><tr><td>406</td><td>147225.15</td></tr></table>"
                    }
                },
                {
                    "output_type": "execute_result",
                    "metadata": {},
                    "execution_count": 2,
                    "data": {
                        "application/vnd.dataresource+json": {
                            "schema": {
                                "fields": [
                                    {
                                        "name": "customer_count"
                                    },
                                    {
                                        "name": "total_profit"
                                    }
                                ]
                            },
                            "data": [
                                {
                                    "0": "406",
                                    "1": "147225.15"
                                }
                            ]
                        },
                        "text/html": "<table><tr><th>customer_count</th><th>total_profit</th></tr><tr><td>406</td><td>147225.15</td></tr></table>"
                    }
                },
                {
                    "output_type": "execute_result",
                    "metadata": {},
                    "execution_count": 2,
                    "data": {
                        "application/vnd.dataresource+json": {
                            "schema": {
                                "fields": [
                                    {
                                        "name": "customer_count"
                                    },
                                    {
                                        "name": "total_profit"
                                    }
                                ]
                            },
                            "data": [
                                {
                                    "0": "406",
                                    "1": "147225.15"
                                }
                            ]
                        },
                        "text/html": "<table><tr><th>customer_count</th><th>total_profit</th></tr><tr><td>406</td><td>147225.15</td></tr></table>"
                    }
                },
                {
                    "output_type": "execute_result",
                    "metadata": {},
                    "execution_count": 2,
                    "data": {
                        "application/vnd.dataresource+json": {
                            "schema": {
                                "fields": [
                                    {
                                        "name": "customer_count"
                                    },
                                    {
                                        "name": "total_profit"
                                    }
                                ]
                            },
                            "data": [
                                {
                                    "0": "406",
                                    "1": "147225.15"
                                }
                            ]
                        },
                        "text/html": "<table><tr><th>customer_count</th><th>total_profit</th></tr><tr><td>406</td><td>147225.15</td></tr></table>"
                    }
                },
                {
                    "output_type": "execute_result",
                    "metadata": {},
                    "execution_count": 2,
                    "data": {
                        "application/vnd.dataresource+json": {
                            "schema": {
                                "fields": [
                                    {
                                        "name": "customer_count"
                                    },
                                    {
                                        "name": "total_profit"
                                    }
                                ]
                            },
                            "data": [
                                {
                                    "0": "406",
                                    "1": "147225.15"
                                }
                            ]
                        },
                        "text/html": "<table><tr><th>customer_count</th><th>total_profit</th></tr><tr><td>406</td><td>147225.15</td></tr></table>"
                    }
                },
                {
                    "output_type": "execute_result",
                    "metadata": {},
                    "execution_count": 2,
                    "data": {
                        "application/vnd.dataresource+json": {
                            "schema": {
                                "fields": [
                                    {
                                        "name": "customer_count"
                                    },
                                    {
                                        "name": "total_profit"
                                    }
                                ]
                            },
                            "data": [
                                {
                                    "0": "406",
                                    "1": "147225.15"
                                }
                            ]
                        },
                        "text/html": "<table><tr><th>customer_count</th><th>total_profit</th></tr><tr><td>406</td><td>147225.15</td></tr></table>"
                    }
                },
                {
                    "output_type": "execute_result",
                    "metadata": {},
                    "execution_count": 2,
                    "data": {
                        "application/vnd.dataresource+json": {
                            "schema": {
                                "fields": [
                                    {
                                        "name": "customer_count"
                                    },
                                    {
                                        "name": "total_profit"
                                    }
                                ]
                            },
                            "data": [
                                {
                                    "0": "406",
                                    "1": "147225.15"
                                }
                            ]
                        },
                        "text/html": "<table><tr><th>customer_count</th><th>total_profit</th></tr><tr><td>406</td><td>147225.15</td></tr></table>"
                    }
                },
                {
                    "output_type": "execute_result",
                    "metadata": {},
                    "execution_count": 2,
                    "data": {
                        "application/vnd.dataresource+json": {
                            "schema": {
                                "fields": [
                                    {
                                        "name": "customer_count"
                                    },
                                    {
                                        "name": "total_profit"
                                    }
                                ]
                            },
                            "data": [
                                {
                                    "0": "406",
                                    "1": "147225.15"
                                }
                            ]
                        },
                        "text/html": "<table><tr><th>customer_count</th><th>total_profit</th></tr><tr><td>406</td><td>147225.15</td></tr></table>"
                    }
                },
                {
                    "output_type": "execute_result",
                    "metadata": {},
                    "execution_count": 2,
                    "data": {
                        "application/vnd.dataresource+json": {
                            "schema": {
                                "fields": [
                                    {
                                        "name": "customer_count"
                                    },
                                    {
                                        "name": "total_profit"
                                    }
                                ]
                            },
                            "data": [
                                {
                                    "0": "406",
                                    "1": "147225.15"
                                }
                            ]
                        },
                        "text/html": "<table><tr><th>customer_count</th><th>total_profit</th></tr><tr><td>406</td><td>147225.15</td></tr></table>"
                    }
                },
                {
                    "output_type": "execute_result",
                    "metadata": {},
                    "execution_count": 2,
                    "data": {
                        "application/vnd.dataresource+json": {
                            "schema": {
                                "fields": [
                                    {
                                        "name": "customer_count"
                                    },
                                    {
                                        "name": "total_profit"
                                    }
                                ]
                            },
                            "data": [
                                {
                                    "0": "406",
                                    "1": "147225.15"
                                }
                            ]
                        },
                        "text/html": "<table><tr><th>customer_count</th><th>total_profit</th></tr><tr><td>406</td><td>147225.15</td></tr></table>"
                    }
                }
            ],
            "execution_count": 2
        },
        {
            "cell_type": "markdown",
            "source": "## Step 3 - Run the stored procedure with database compatibility of 150\r\nNow let's run the same exact test but with database compatibility of 150. You will not make any changes to the stored procedure.\r\n\r\nNotice this is the same script except database compatibility of 150 is used. This time, the query processor in SQL Server will enable table variable deferred compilation so a better query plan can be chosen\r\n\r\n The script should execute far faster than before. Your speeds can vary but should be 15 seconds or less.\r\n\r\n When you click Play to run the script look for these messages on the total elapsted time (your time may vary)\r\n\r\n<pre>Beginning execution loop\r\nBatch execution completed 25 times...\r\nTotal execution time: 00:00:10.9975239</pre>\r\n",
            "metadata": {}
        },
        {
            "cell_type": "code",
            "source": "USE master\r\nGO\r\nALTER DATABASE wideworldimporters SET compatibility_level = 150\r\nGO\r\nUSE WideWorldImporters\r\nGO\r\nSET NOCOUNT ON\r\nGO\r\nEXEC [Sales].[CustomerProfits]\r\nGO 25\r\nSET NOCOUNT OFF\r\nGO",
            "metadata": {},
            "outputs": [
                {
                    "output_type": "display_data",
                    "data": {
                        "text/html": "Commands completed successfully."
                    },
                    "metadata": {}
                },
                {
                    "output_type": "display_data",
                    "data": {
                        "text/html": "Total execution time: 00:00:00.0387470"
                    },
                    "metadata": {}
                },
                {
                    "output_type": "display_data",
                    "data": {
                        "text/html": "Commands completed successfully."
                    },
                    "metadata": {}
                },
                {
                    "output_type": "display_data",
                    "data": {
                        "text/html": "Total execution time: 00:00:00.1565278"
                    },
                    "metadata": {}
                },
                {
                    "output_type": "display_data",
                    "data": {
                        "text/html": "Commands completed successfully."
                    },
                    "metadata": {}
                },
                {
                    "output_type": "display_data",
                    "data": {
                        "text/html": "Total execution time: 00:00:00.0384564"
                    },
                    "metadata": {}
                },
                {
                    "output_type": "display_data",
                    "data": {
                        "text/html": "Commands completed successfully."
                    },
                    "metadata": {}
                },
                {
                    "output_type": "display_data",
                    "data": {
                        "text/html": "Total execution time: 00:00:00.0395903"
                    },
                    "metadata": {}
                },
                {
                    "output_type": "display_data",
                    "data": {
                        "text/html": "Beginning execution loop"
                    },
                    "metadata": {}
                },
                {
                    "output_type": "display_data",
                    "data": {
                        "text/html": "Batch execution completed 25 times..."
                    },
                    "metadata": {}
                },
                {
                    "output_type": "display_data",
                    "data": {
                        "text/html": "Total execution time: 00:00:09.7312251"
                    },
                    "metadata": {}
                },
                {
                    "output_type": "display_data",
                    "data": {
                        "text/html": "Commands completed successfully."
                    },
                    "metadata": {}
                },
                {
                    "output_type": "display_data",
                    "data": {
                        "text/html": "Total execution time: 00:00:00.0387062"
                    },
                    "metadata": {}
                },
                {
                    "output_type": "execute_result",
                    "metadata": {},
                    "execution_count": 3,
                    "data": {
                        "application/vnd.dataresource+json": {
                            "schema": {
                                "fields": [
                                    {
                                        "name": "customer_count"
                                    },
                                    {
                                        "name": "total_profit"
                                    }
                                ]
                            },
                            "data": [
                                {
                                    "0": "406",
                                    "1": "147225.15"
                                }
                            ]
                        },
                        "text/html": "<table><tr><th>customer_count</th><th>total_profit</th></tr><tr><td>406</td><td>147225.15</td></tr></table>"
                    }
                },
                {
                    "output_type": "execute_result",
                    "metadata": {},
                    "execution_count": 3,
                    "data": {
                        "application/vnd.dataresource+json": {
                            "schema": {
                                "fields": [
                                    {
                                        "name": "customer_count"
                                    },
                                    {
                                        "name": "total_profit"
                                    }
                                ]
                            },
                            "data": [
                                {
                                    "0": "406",
                                    "1": "147225.15"
                                }
                            ]
                        },
                        "text/html": "<table><tr><th>customer_count</th><th>total_profit</th></tr><tr><td>406</td><td>147225.15</td></tr></table>"
                    }
                },
                {
                    "output_type": "execute_result",
                    "metadata": {},
                    "execution_count": 3,
                    "data": {
                        "application/vnd.dataresource+json": {
                            "schema": {
                                "fields": [
                                    {
                                        "name": "customer_count"
                                    },
                                    {
                                        "name": "total_profit"
                                    }
                                ]
                            },
                            "data": [
                                {
                                    "0": "406",
                                    "1": "147225.15"
                                }
                            ]
                        },
                        "text/html": "<table><tr><th>customer_count</th><th>total_profit</th></tr><tr><td>406</td><td>147225.15</td></tr></table>"
                    }
                },
                {
                    "output_type": "execute_result",
                    "metadata": {},
                    "execution_count": 3,
                    "data": {
                        "application/vnd.dataresource+json": {
                            "schema": {
                                "fields": [
                                    {
                                        "name": "customer_count"
                                    },
                                    {
                                        "name": "total_profit"
                                    }
                                ]
                            },
                            "data": [
                                {
                                    "0": "406",
                                    "1": "147225.15"
                                }
                            ]
                        },
                        "text/html": "<table><tr><th>customer_count</th><th>total_profit</th></tr><tr><td>406</td><td>147225.15</td></tr></table>"
                    }
                },
                {
                    "output_type": "execute_result",
                    "metadata": {},
                    "execution_count": 3,
                    "data": {
                        "application/vnd.dataresource+json": {
                            "schema": {
                                "fields": [
                                    {
                                        "name": "customer_count"
                                    },
                                    {
                                        "name": "total_profit"
                                    }
                                ]
                            },
                            "data": [
                                {
                                    "0": "406",
                                    "1": "147225.15"
                                }
                            ]
                        },
                        "text/html": "<table><tr><th>customer_count</th><th>total_profit</th></tr><tr><td>406</td><td>147225.15</td></tr></table>"
                    }
                },
                {
                    "output_type": "execute_result",
                    "metadata": {},
                    "execution_count": 3,
                    "data": {
                        "application/vnd.dataresource+json": {
                            "schema": {
                                "fields": [
                                    {
                                        "name": "customer_count"
                                    },
                                    {
                                        "name": "total_profit"
                                    }
                                ]
                            },
                            "data": [
                                {
                                    "0": "406",
                                    "1": "147225.15"
                                }
                            ]
                        },
                        "text/html": "<table><tr><th>customer_count</th><th>total_profit</th></tr><tr><td>406</td><td>147225.15</td></tr></table>"
                    }
                },
                {
                    "output_type": "execute_result",
                    "metadata": {},
                    "execution_count": 3,
                    "data": {
                        "application/vnd.dataresource+json": {
                            "schema": {
                                "fields": [
                                    {
                                        "name": "customer_count"
                                    },
                                    {
                                        "name": "total_profit"
                                    }
                                ]
                            },
                            "data": [
                                {
                                    "0": "406",
                                    "1": "147225.15"
                                }
                            ]
                        },
                        "text/html": "<table><tr><th>customer_count</th><th>total_profit</th></tr><tr><td>406</td><td>147225.15</td></tr></table>"
                    }
                },
                {
                    "output_type": "execute_result",
                    "metadata": {},
                    "execution_count": 3,
                    "data": {
                        "application/vnd.dataresource+json": {
                            "schema": {
                                "fields": [
                                    {
                                        "name": "customer_count"
                                    },
                                    {
                                        "name": "total_profit"
                                    }
                                ]
                            },
                            "data": [
                                {
                                    "0": "406",
                                    "1": "147225.15"
                                }
                            ]
                        },
                        "text/html": "<table><tr><th>customer_count</th><th>total_profit</th></tr><tr><td>406</td><td>147225.15</td></tr></table>"
                    }
                },
                {
                    "output_type": "execute_result",
                    "metadata": {},
                    "execution_count": 3,
                    "data": {
                        "application/vnd.dataresource+json": {
                            "schema": {
                                "fields": [
                                    {
                                        "name": "customer_count"
                                    },
                                    {
                                        "name": "total_profit"
                                    }
                                ]
                            },
                            "data": [
                                {
                                    "0": "406",
                                    "1": "147225.15"
                                }
                            ]
                        },
                        "text/html": "<table><tr><th>customer_count</th><th>total_profit</th></tr><tr><td>406</td><td>147225.15</td></tr></table>"
                    }
                },
                {
                    "output_type": "execute_result",
                    "metadata": {},
                    "execution_count": 3,
                    "data": {
                        "application/vnd.dataresource+json": {
                            "schema": {
                                "fields": [
                                    {
                                        "name": "customer_count"
                                    },
                                    {
                                        "name": "total_profit"
                                    }
                                ]
                            },
                            "data": [
                                {
                                    "0": "406",
                                    "1": "147225.15"
                                }
                            ]
                        },
                        "text/html": "<table><tr><th>customer_count</th><th>total_profit</th></tr><tr><td>406</td><td>147225.15</td></tr></table>"
                    }
                },
                {
                    "output_type": "execute_result",
                    "metadata": {},
                    "execution_count": 3,
                    "data": {
                        "application/vnd.dataresource+json": {
                            "schema": {
                                "fields": [
                                    {
                                        "name": "customer_count"
                                    },
                                    {
                                        "name": "total_profit"
                                    }
                                ]
                            },
                            "data": [
                                {
                                    "0": "406",
                                    "1": "147225.15"
                                }
                            ]
                        },
                        "text/html": "<table><tr><th>customer_count</th><th>total_profit</th></tr><tr><td>406</td><td>147225.15</td></tr></table>"
                    }
                },
                {
                    "output_type": "execute_result",
                    "metadata": {},
                    "execution_count": 3,
                    "data": {
                        "application/vnd.dataresource+json": {
                            "schema": {
                                "fields": [
                                    {
                                        "name": "customer_count"
                                    },
                                    {
                                        "name": "total_profit"
                                    }
                                ]
                            },
                            "data": [
                                {
                                    "0": "406",
                                    "1": "147225.15"
                                }
                            ]
                        },
                        "text/html": "<table><tr><th>customer_count</th><th>total_profit</th></tr><tr><td>406</td><td>147225.15</td></tr></table>"
                    }
                },
                {
                    "output_type": "execute_result",
                    "metadata": {},
                    "execution_count": 3,
                    "data": {
                        "application/vnd.dataresource+json": {
                            "schema": {
                                "fields": [
                                    {
                                        "name": "customer_count"
                                    },
                                    {
                                        "name": "total_profit"
                                    }
                                ]
                            },
                            "data": [
                                {
                                    "0": "406",
                                    "1": "147225.15"
                                }
                            ]
                        },
                        "text/html": "<table><tr><th>customer_count</th><th>total_profit</th></tr><tr><td>406</td><td>147225.15</td></tr></table>"
                    }
                },
                {
                    "output_type": "execute_result",
                    "metadata": {},
                    "execution_count": 3,
                    "data": {
                        "application/vnd.dataresource+json": {
                            "schema": {
                                "fields": [
                                    {
                                        "name": "customer_count"
                                    },
                                    {
                                        "name": "total_profit"
                                    }
                                ]
                            },
                            "data": [
                                {
                                    "0": "406",
                                    "1": "147225.15"
                                }
                            ]
                        },
                        "text/html": "<table><tr><th>customer_count</th><th>total_profit</th></tr><tr><td>406</td><td>147225.15</td></tr></table>"
                    }
                },
                {
                    "output_type": "execute_result",
                    "metadata": {},
                    "execution_count": 3,
                    "data": {
                        "application/vnd.dataresource+json": {
                            "schema": {
                                "fields": [
                                    {
                                        "name": "customer_count"
                                    },
                                    {
                                        "name": "total_profit"
                                    }
                                ]
                            },
                            "data": [
                                {
                                    "0": "406",
                                    "1": "147225.15"
                                }
                            ]
                        },
                        "text/html": "<table><tr><th>customer_count</th><th>total_profit</th></tr><tr><td>406</td><td>147225.15</td></tr></table>"
                    }
                },
                {
                    "output_type": "execute_result",
                    "metadata": {},
                    "execution_count": 3,
                    "data": {
                        "application/vnd.dataresource+json": {
                            "schema": {
                                "fields": [
                                    {
                                        "name": "customer_count"
                                    },
                                    {
                                        "name": "total_profit"
                                    }
                                ]
                            },
                            "data": [
                                {
                                    "0": "406",
                                    "1": "147225.15"
                                }
                            ]
                        },
                        "text/html": "<table><tr><th>customer_count</th><th>total_profit</th></tr><tr><td>406</td><td>147225.15</td></tr></table>"
                    }
                },
                {
                    "output_type": "execute_result",
                    "metadata": {},
                    "execution_count": 3,
                    "data": {
                        "application/vnd.dataresource+json": {
                            "schema": {
                                "fields": [
                                    {
                                        "name": "customer_count"
                                    },
                                    {
                                        "name": "total_profit"
                                    }
                                ]
                            },
                            "data": [
                                {
                                    "0": "406",
                                    "1": "147225.15"
                                }
                            ]
                        },
                        "text/html": "<table><tr><th>customer_count</th><th>total_profit</th></tr><tr><td>406</td><td>147225.15</td></tr></table>"
                    }
                },
                {
                    "output_type": "execute_result",
                    "metadata": {},
                    "execution_count": 3,
                    "data": {
                        "application/vnd.dataresource+json": {
                            "schema": {
                                "fields": [
                                    {
                                        "name": "customer_count"
                                    },
                                    {
                                        "name": "total_profit"
                                    }
                                ]
                            },
                            "data": [
                                {
                                    "0": "406",
                                    "1": "147225.15"
                                }
                            ]
                        },
                        "text/html": "<table><tr><th>customer_count</th><th>total_profit</th></tr><tr><td>406</td><td>147225.15</td></tr></table>"
                    }
                },
                {
                    "output_type": "execute_result",
                    "metadata": {},
                    "execution_count": 3,
                    "data": {
                        "application/vnd.dataresource+json": {
                            "schema": {
                                "fields": [
                                    {
                                        "name": "customer_count"
                                    },
                                    {
                                        "name": "total_profit"
                                    }
                                ]
                            },
                            "data": [
                                {
                                    "0": "406",
                                    "1": "147225.15"
                                }
                            ]
                        },
                        "text/html": "<table><tr><th>customer_count</th><th>total_profit</th></tr><tr><td>406</td><td>147225.15</td></tr></table>"
                    }
                },
                {
                    "output_type": "execute_result",
                    "metadata": {},
                    "execution_count": 3,
                    "data": {
                        "application/vnd.dataresource+json": {
                            "schema": {
                                "fields": [
                                    {
                                        "name": "customer_count"
                                    },
                                    {
                                        "name": "total_profit"
                                    }
                                ]
                            },
                            "data": [
                                {
                                    "0": "406",
                                    "1": "147225.15"
                                }
                            ]
                        },
                        "text/html": "<table><tr><th>customer_count</th><th>total_profit</th></tr><tr><td>406</td><td>147225.15</td></tr></table>"
                    }
                },
                {
                    "output_type": "execute_result",
                    "metadata": {},
                    "execution_count": 3,
                    "data": {
                        "application/vnd.dataresource+json": {
                            "schema": {
                                "fields": [
                                    {
                                        "name": "customer_count"
                                    },
                                    {
                                        "name": "total_profit"
                                    }
                                ]
                            },
                            "data": [
                                {
                                    "0": "406",
                                    "1": "147225.15"
                                }
                            ]
                        },
                        "text/html": "<table><tr><th>customer_count</th><th>total_profit</th></tr><tr><td>406</td><td>147225.15</td></tr></table>"
                    }
                },
                {
                    "output_type": "execute_result",
                    "metadata": {},
                    "execution_count": 3,
                    "data": {
                        "application/vnd.dataresource+json": {
                            "schema": {
                                "fields": [
                                    {
                                        "name": "customer_count"
                                    },
                                    {
                                        "name": "total_profit"
                                    }
                                ]
                            },
                            "data": [
                                {
                                    "0": "406",
                                    "1": "147225.15"
                                }
                            ]
                        },
                        "text/html": "<table><tr><th>customer_count</th><th>total_profit</th></tr><tr><td>406</td><td>147225.15</td></tr></table>"
                    }
                },
                {
                    "output_type": "execute_result",
                    "metadata": {},
                    "execution_count": 3,
                    "data": {
                        "application/vnd.dataresource+json": {
                            "schema": {
                                "fields": [
                                    {
                                        "name": "customer_count"
                                    },
                                    {
                                        "name": "total_profit"
                                    }
                                ]
                            },
                            "data": [
                                {
                                    "0": "406",
                                    "1": "147225.15"
                                }
                            ]
                        },
                        "text/html": "<table><tr><th>customer_count</th><th>total_profit</th></tr><tr><td>406</td><td>147225.15</td></tr></table>"
                    }
                },
                {
                    "output_type": "execute_result",
                    "metadata": {},
                    "execution_count": 3,
                    "data": {
                        "application/vnd.dataresource+json": {
                            "schema": {
                                "fields": [
                                    {
                                        "name": "customer_count"
                                    },
                                    {
                                        "name": "total_profit"
                                    }
                                ]
                            },
                            "data": [
                                {
                                    "0": "406",
                                    "1": "147225.15"
                                }
                            ]
                        },
                        "text/html": "<table><tr><th>customer_count</th><th>total_profit</th></tr><tr><td>406</td><td>147225.15</td></tr></table>"
                    }
                },
                {
                    "output_type": "execute_result",
                    "metadata": {},
                    "execution_count": 3,
                    "data": {
                        "application/vnd.dataresource+json": {
                            "schema": {
                                "fields": [
                                    {
                                        "name": "customer_count"
                                    },
                                    {
                                        "name": "total_profit"
                                    }
                                ]
                            },
                            "data": [
                                {
                                    "0": "406",
                                    "1": "147225.15"
                                }
                            ]
                        },
                        "text/html": "<table><tr><th>customer_count</th><th>total_profit</th></tr><tr><td>406</td><td>147225.15</td></tr></table>"
                    }
                }
            ],
            "execution_count": 3
        }
    ]
}